{
  "nbformat": 4,
  "nbformat_minor": 0,
  "metadata": {
    "colab": {
      "name": "Untitled15.ipynb",
      "provenance": [],
      "authorship_tag": "ABX9TyOzkl/JclcotQGnDsbj4Bgw",
      "include_colab_link": true
    },
    "kernelspec": {
      "name": "python3",
      "display_name": "Python 3"
    }
  },
  "cells": [
    {
      "cell_type": "markdown",
      "metadata": {
        "id": "view-in-github",
        "colab_type": "text"
      },
      "source": [
        "<a href=\"https://colab.research.google.com/github/NaveenDevaki/Assessment/blob/main/Untitled15.ipynb\" target=\"_parent\"><img src=\"https://colab.research.google.com/assets/colab-badge.svg\" alt=\"Open In Colab\"/></a>"
      ]
    },
    {
      "cell_type": "code",
      "metadata": {
        "colab": {
          "base_uri": "https://localhost:8080/"
        },
        "id": "GmiyB92B-0vU",
        "outputId": "d5f4ca71-b974-42ae-8ad1-a76a5c35a3ca"
      },
      "source": [
        "for i in range(0,5):\n",
        "   for j in range(0,i+1):\n",
        "      print(\"*\",end=' ')\n",
        "   print('\\r')"
      ],
      "execution_count": 24,
      "outputs": [
        {
          "output_type": "stream",
          "text": [
            "* \r\n",
            "* * \r\n",
            "* * * \r\n",
            "* * * * \r\n",
            "* * * * * \r\n"
          ],
          "name": "stdout"
        }
      ]
    },
    {
      "cell_type": "code",
      "metadata": {
        "colab": {
          "base_uri": "https://localhost:8080/"
        },
        "id": "eFmjbrtfAbDC",
        "outputId": "fe8315ac-6621-4c85-b4e1-fec19126d53e"
      },
      "source": [
        "a=input('Enter your Name')\n",
        "print(a[::-1])"
      ],
      "execution_count": 25,
      "outputs": [
        {
          "output_type": "stream",
          "text": [
            "Enter your NameNaveen\n",
            "neevaN\n"
          ],
          "name": "stdout"
        }
      ]
    }
  ]
}